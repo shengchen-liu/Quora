{
 "cells": [
  {
   "cell_type": "code",
   "execution_count": 1,
   "metadata": {},
   "outputs": [
    {
     "name": "stdout",
     "output_type": "stream",
     "text": [
      "module://ipykernel.pylab.backend_inline\n",
      "@common.py:  \n",
      "\tset random seed\n",
      "\t\tSEED=35202\n",
      "\tset cuda environment\n",
      "\t\ttorch.__version__              = 1.0.0\n",
      "\t\ttorch.version.cuda             = 9.0.176\n",
      "\t\ttorch.backends.cudnn.version() = 7401\n",
      "\t\ttorch.cuda.device_count()      = 1\n",
      "\n"
     ]
    }
   ],
   "source": [
    "%load_ext autoreload\n",
    "%autoreload 2\n",
    "\n",
    "from common import *\n",
    "from config import *\n",
    "import utils\n",
    "from models.model import*"
   ]
  },
  {
   "cell_type": "code",
   "execution_count": 2,
   "metadata": {},
   "outputs": [
    {
     "name": "stdout",
     "output_type": "stream",
     "text": [
      "\t\tos['CUDA_VISIBLE_DEVICES']     = 0\n",
      "\n",
      "-------------------- [START 2019-01-18 04:13:20] ---------------------------------------------------\n",
      "\n",
      "                          |------ Train ------|------ Valid ------|----Best Results---|------------|\n",
      "mode    iter   epoch    lr|  loss    f1_macro |  loss    f1_macro |  loss    f1_macro | time       |\n",
      "----------------------------------------------------------------------------------------------------\n"
     ]
    }
   ],
   "source": [
    "config = DefaultConfigs()\n",
    "\n",
    "\n",
    "# 1. set random seed\n",
    "os.environ[\"CUDA_VISIBLE_DEVICES\"] = config.gpus\n",
    "try:\n",
    "    print('\\t\\tos[\\'CUDA_VISIBLE_DEVICES\\']     =', os.environ['CUDA_VISIBLE_DEVICES'])\n",
    "    NUM_CUDA_DEVICES = len(os.environ['CUDA_VISIBLE_DEVICES'].split(','))\n",
    "except Exception:\n",
    "    print('\\t\\tos[\\'CUDA_VISIBLE_DEVICES\\']     =', 'None')\n",
    "    NUM_CUDA_DEVICES = 1\n",
    "warnings.filterwarnings('ignore')\n",
    "\n",
    "if not os.path.exists('../results'):\n",
    "    os.mkdir('../results')\n",
    "\n",
    "if not os.path.exists(config.logs):\n",
    "    os.mkdir(config.logs)\n",
    "\n",
    "log = utils.Logger()\n",
    "log.open('{0}{1}_log_train.txt'.format(config.logs, config.model_name),mode=\"a\")\n",
    "\n",
    "log.write(\"\\n-------------------- [START %s] %s\\n\\n\" % (datetime.now().strftime('%Y-%m-%d %H:%M:%S'), '-' * 51))\n",
    "log.write('                          |------ Train ------|------ Valid ------|----Best Results---|------------|\\n')\n",
    "log.write('mode    iter   epoch    lr|  loss    f1_macro |  loss    f1_macro |  loss    f1_macro | time       |\\n')\n",
    "log.write('----------------------------------------------------------------------------------------------------\\n')"
   ]
  },
  {
   "cell_type": "code",
   "execution_count": 3,
   "metadata": {},
   "outputs": [
    {
     "name": "stderr",
     "output_type": "stream",
     "text": [
      "  3%|▎         | 37785/1306122 [00:00<00:03, 377847.66it/s]"
     ]
    },
    {
     "name": "stdout",
     "output_type": "stream",
     "text": [
      "Train shape :  (1306122, 3)\n",
      "Test shape :  (56370, 2)\n"
     ]
    },
    {
     "name": "stderr",
     "output_type": "stream",
     "text": [
      "100%|██████████| 1306122/1306122 [00:01<00:00, 675736.24it/s]\n",
      "100%|██████████| 56370/56370 [00:00<00:00, 605156.72it/s]\n",
      "100%|██████████| 1306122/1306122 [00:53<00:00, 24567.27it/s]\n",
      "100%|██████████| 56370/56370 [00:02<00:00, 24551.00it/s]\n",
      "100%|██████████| 1306122/1306122 [00:16<00:00, 77187.68it/s]\n",
      "100%|██████████| 56370/56370 [00:00<00:00, 77506.16it/s]\n",
      "100%|██████████| 1306122/1306122 [00:18<00:00, 70066.27it/s]\n",
      "100%|██████████| 56370/56370 [00:00<00:00, 69142.46it/s]\n"
     ]
    },
    {
     "name": "stdout",
     "output_type": "stream",
     "text": [
      "Tokenizing.......\n",
      "Tokenizing Done!\n",
      "Took 2.80 minutes\n"
     ]
    }
   ],
   "source": [
    " # 4.1 mkdirs\n",
    "if not os.path.exists(config.submit):\n",
    "    os.makedirs(config.submit)\n",
    "if not os.path.exists(config.weights + config.model_name + os.sep + 'fold_'+str(config.fold)):\n",
    "    os.makedirs(config.weights + config.model_name + os.sep + 'fold_'+ str(config.fold))\n",
    "if not os.path.exists(config.best_models):\n",
    "    os.mkdir(config.best_models)\n",
    "if not os.path.exists(config.logs):\n",
    "    os.mkdir(config.logs)\n",
    "\n",
    "tqdm.pandas()\n",
    "\n",
    "start_time = time.time()\n",
    "train_X, test_X, train_y, word_index = utils.load_and_prec(config)\n",
    "# embedding_matrix_1 = load_glove(word_index)\n",
    "# embedding_matrix_2 = load_para(word_index)\n",
    "\n",
    "total_time = (time.time() - start_time) / 60\n",
    "print(\"Took {:.2f} minutes\".format(total_time))"
   ]
  },
  {
   "cell_type": "code",
   "execution_count": 4,
   "metadata": {},
   "outputs": [],
   "source": [
    "# -------------------------------------------------------\n",
    "# training\n",
    "# -------------------------------------------------------\n",
    "train_preds = np.zeros((len(train_X)))\n",
    "test_preds = np.zeros((len(test_X)))\n",
    "\n",
    "x_test_cuda = torch.tensor(test_X, dtype=torch.long).cuda()\n",
    "test = torch.utils.data.TensorDataset(x_test_cuda)\n",
    "test_loader = torch.utils.data.DataLoader(test, batch_size=config.batch_size, shuffle=False)\n",
    "\n",
    "splits = list(StratifiedKFold(n_splits=5, shuffle=True, random_state=SEED).split(train_X, train_y))"
   ]
  },
  {
   "cell_type": "code",
   "execution_count": null,
   "metadata": {},
   "outputs": [
    {
     "name": "stdout",
     "output_type": "stream",
     "text": [
      "Start loading embedding....................\n"
     ]
    }
   ],
   "source": [
    "sigmoid = nn.Sigmoid()\n",
    "for i, (train_idx, valid_idx) in enumerate(splits):\n",
    "    x_train_fold = torch.tensor(train_X[train_idx], dtype=torch.long).cuda()\n",
    "    y_train_fold = torch.tensor(train_y[train_idx, np.newaxis], dtype=torch.float32).cuda()\n",
    "    x_val_fold = torch.tensor(train_X[valid_idx], dtype=torch.long).cuda()\n",
    "    y_val_fold = torch.tensor(train_y[valid_idx, np.newaxis], dtype=torch.float32).cuda()\n",
    "\n",
    "    model = Baseline_Bidir_LSTM_GRU(config, word_index)\n",
    "    model.cuda()\n",
    "\n",
    "    loss_fn = torch.nn.BCEWithLogitsLoss(reduction=\"sum\")\n",
    "    optimizer = torch.optim.Adam(model.parameters())\n",
    "\n",
    "    train = torch.utils.data.TensorDataset(x_train_fold, y_train_fold)\n",
    "    valid = torch.utils.data.TensorDataset(x_val_fold, y_val_fold)\n",
    "\n",
    "    train_loader = torch.utils.data.DataLoader(train, batch_size=config.batch_size, shuffle=True)\n",
    "    valid_loader = torch.utils.data.DataLoader(valid, batch_size=config.batch_size, shuffle=False)\n",
    "\n",
    "    print(f'Fold {i + 1}')\n",
    "\n",
    "    for epoch in range(config.epochs):\n",
    "        start_time = time.time()\n",
    "\n",
    "        model.train()\n",
    "        avg_loss = 0.\n",
    "        for x_batch, y_batch in tqdm(train_loader, disable=True):\n",
    "            y_pred = model(x_batch)\n",
    "            loss = loss_fn(y_pred, y_batch)\n",
    "            optimizer.zero_grad()\n",
    "            loss.backward()\n",
    "            optimizer.step()\n",
    "            avg_loss += loss.item() / len(train_loader)\n",
    "\n",
    "        model.eval()\n",
    "        valid_preds_fold = np.zeros((x_val_fold.size(0)))\n",
    "        test_preds_fold = np.zeros(len(test_X))\n",
    "        avg_val_loss = 0.\n",
    "        \n",
    "        # validate\n",
    "        for i, (x_batch, y_batch) in enumerate(valid_loader):\n",
    "            y_pred = model(x_batch).detach()\n",
    "            avg_val_loss += loss_fn(y_pred, y_batch).item() / len(valid_loader)\n",
    "            valid_preds_fold[i * config.batch_size:(i + 1) * config.batch_size] = sigmoid(y_pred).cpu().numpy()[:, 0]\n",
    "\n",
    "        elapsed_time = time.time() - start_time\n",
    "        print('Epoch {}/{} \\t loss={:.4f} \\t val_loss={:.4f} \\t time={:.2f}s'.format(\n",
    "            epoch + 1, config.epochs, avg_loss, avg_val_loss, elapsed_time))\n",
    "\n",
    "    # test    \n",
    "    for i, (x_batch,) in enumerate(test_loader):\n",
    "        y_pred = model(x_batch).detach()\n",
    "\n",
    "        test_preds_fold[i * config.batch_size:(i + 1) * config.batch_size] =  sigmoid(y_pred).cpu().numpy()[:, 0]\n",
    "\n",
    "    train_preds[valid_idx] = valid_preds_fold\n",
    "    test_preds += test_preds_fold / len(splits)"
   ]
  },
  {
   "cell_type": "code",
   "execution_count": 25,
   "metadata": {},
   "outputs": [
    {
     "data": {
      "text/plain": [
       "(1536,)"
      ]
     },
     "execution_count": 25,
     "metadata": {},
     "output_type": "execute_result"
    }
   ],
   "source": [
    "m = nn.Sigmoid()\n",
    "m(y_pred).cpu().numpy()[:,0].shape"
   ]
  },
  {
   "cell_type": "code",
   "execution_count": 18,
   "metadata": {},
   "outputs": [
    {
     "ename": "TypeError",
     "evalue": "__init__() takes 1 positional argument but 2 were given",
     "output_type": "error",
     "traceback": [
      "\u001b[0;31m---------------------------------------------------------------------------\u001b[0m",
      "\u001b[0;31mTypeError\u001b[0m                                 Traceback (most recent call last)",
      "\u001b[0;32m<ipython-input-18-b1c71175a0a4>\u001b[0m in \u001b[0;36m<module>\u001b[0;34m\u001b[0m\n\u001b[0;32m----> 1\u001b[0;31m \u001b[0mtorch\u001b[0m\u001b[0;34m.\u001b[0m\u001b[0mnn\u001b[0m\u001b[0;34m.\u001b[0m\u001b[0mSigmoid\u001b[0m\u001b[0;34m(\u001b[0m\u001b[0;34m[\u001b[0m\u001b[0;34m[\u001b[0m\u001b[0;36m0\u001b[0m\u001b[0;34m]\u001b[0m\u001b[0;34m]\u001b[0m\u001b[0;34m)\u001b[0m\u001b[0;34m\u001b[0m\u001b[0;34m\u001b[0m\u001b[0m\n\u001b[0m",
      "\u001b[0;31mTypeError\u001b[0m: __init__() takes 1 positional argument but 2 were given"
     ]
    }
   ],
   "source": [
    "torch.nn.Sigmoid([[0]])"
   ]
  },
  {
   "cell_type": "code",
   "execution_count": null,
   "metadata": {},
   "outputs": [],
   "source": []
  }
 ],
 "metadata": {
  "kernelspec": {
   "display_name": "Python 3",
   "language": "python",
   "name": "python3"
  }
 },
 "nbformat": 4,
 "nbformat_minor": 2
}
