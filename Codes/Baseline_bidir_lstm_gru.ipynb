{
 "cells": [
  {
   "cell_type": "code",
   "execution_count": 60,
   "metadata": {},
   "outputs": [
    {
     "name": "stdout",
     "output_type": "stream",
     "text": [
      "The autoreload extension is already loaded. To reload it, use:\n",
      "  %reload_ext autoreload\n"
     ]
    }
   ],
   "source": [
    "%load_ext autoreload\n",
    "%autoreload 2\n",
    "\n",
    "from common import *\n",
    "from config import *\n",
    "import utils\n",
    "from models.model import*\n",
    "from sklearn.metrics import f1_score, roc_auc_score"
   ]
  },
  {
   "cell_type": "code",
   "execution_count": 2,
   "metadata": {},
   "outputs": [
    {
     "name": "stdout",
     "output_type": "stream",
     "text": [
      "\t\tos['CUDA_VISIBLE_DEVICES']     = 0\n",
      "\n",
      "-------------------- [START 2019-01-18 18:53:52] ---------------------------------------------------\n",
      "\n",
      "                          |------ Train ------|------ Valid ------|----Best Results---|------------|\n",
      "mode    iter   epoch    lr|  loss    f1_macro |  loss    f1_macro |  loss    f1_macro | time       |\n",
      "----------------------------------------------------------------------------------------------------\n"
     ]
    }
   ],
   "source": [
    "config = DefaultConfigs()\n",
    "\n",
    "\n",
    "# 1. set random seed\n",
    "os.environ[\"CUDA_VISIBLE_DEVICES\"] = config.gpus\n",
    "try:\n",
    "    print('\\t\\tos[\\'CUDA_VISIBLE_DEVICES\\']     =', os.environ['CUDA_VISIBLE_DEVICES'])\n",
    "    NUM_CUDA_DEVICES = len(os.environ['CUDA_VISIBLE_DEVICES'].split(','))\n",
    "except Exception:\n",
    "    print('\\t\\tos[\\'CUDA_VISIBLE_DEVICES\\']     =', 'None')\n",
    "    NUM_CUDA_DEVICES = 1\n",
    "warnings.filterwarnings('ignore')\n",
    "\n",
    "if not os.path.exists('../results'):\n",
    "    os.mkdir('../results')\n",
    "\n",
    "if not os.path.exists(config.logs):\n",
    "    os.mkdir(config.logs)\n",
    "\n",
    "log = utils.Logger()\n",
    "log.open('{0}{1}_log_train.txt'.format(config.logs, config.model_name),mode=\"a\")\n",
    "\n",
    "log.write(\"\\n-------------------- [START %s] %s\\n\\n\" % (datetime.now().strftime('%Y-%m-%d %H:%M:%S'), '-' * 51))\n",
    "log.write('                          |------ Train ------|------ Valid ------|----Best Results---|------------|\\n')\n",
    "log.write('mode    iter   epoch    lr|  loss    f1_macro |  loss    f1_macro |  loss    f1_macro | time       |\\n')\n",
    "log.write('----------------------------------------------------------------------------------------------------\\n')"
   ]
  },
  {
   "cell_type": "code",
   "execution_count": 3,
   "metadata": {},
   "outputs": [
    {
     "name": "stderr",
     "output_type": "stream",
     "text": [
      "  7%|▋         | 88310/1306122 [00:00<00:03, 319194.72it/s]"
     ]
    },
    {
     "name": "stdout",
     "output_type": "stream",
     "text": [
      "Train shape :  (1306122, 3)\n",
      "Test shape :  (56370, 2)\n"
     ]
    },
    {
     "name": "stderr",
     "output_type": "stream",
     "text": [
      "100%|██████████| 1306122/1306122 [00:01<00:00, 670783.91it/s]\n",
      "100%|██████████| 56370/56370 [00:00<00:00, 594071.96it/s]\n",
      "100%|██████████| 1306122/1306122 [00:53<00:00, 24206.32it/s]\n",
      "100%|██████████| 56370/56370 [00:02<00:00, 24599.86it/s]\n",
      "100%|██████████| 1306122/1306122 [00:16<00:00, 77024.20it/s]\n",
      "100%|██████████| 56370/56370 [00:00<00:00, 77525.62it/s]\n",
      "100%|██████████| 1306122/1306122 [00:18<00:00, 72054.69it/s]\n",
      "100%|██████████| 56370/56370 [00:00<00:00, 70781.54it/s]\n"
     ]
    },
    {
     "name": "stdout",
     "output_type": "stream",
     "text": [
      "Tokenizing.......\n",
      "Tokenizing Done!\n",
      "Took 2.82 minutes\n"
     ]
    }
   ],
   "source": [
    " # 4.1 mkdirs\n",
    "if not os.path.exists(config.submit):\n",
    "    os.makedirs(config.submit)\n",
    "if not os.path.exists(config.weights + config.model_name + os.sep + 'fold_'+str(config.fold)):\n",
    "    os.makedirs(config.weights + config.model_name + os.sep + 'fold_'+ str(config.fold))\n",
    "if not os.path.exists(config.best_models):\n",
    "    os.mkdir(config.best_models)\n",
    "if not os.path.exists(config.logs):\n",
    "    os.mkdir(config.logs)\n",
    "\n",
    "tqdm.pandas()\n",
    "\n",
    "start_time = time.time()\n",
    "train_X, test_X, train_y, word_index = utils.load_and_prec(config)\n",
    "# embedding_matrix_1 = load_glove(word_index)\n",
    "# embedding_matrix_2 = load_para(word_index)\n",
    "\n",
    "total_time = (time.time() - start_time) / 60\n",
    "print(\"Took {:.2f} minutes\".format(total_time))"
   ]
  },
  {
   "cell_type": "code",
   "execution_count": 47,
   "metadata": {},
   "outputs": [],
   "source": [
    "def train(train_loader,model,loss_fn, optimizer,epoch,valid_loss,start):\n",
    "    losses = utils.AverageMeter()\n",
    "    model.train()\n",
    "\n",
    "    for i, (x_batch, y_batch) in enumerate(train_loader):\n",
    "        y_pred = model(x_batch)\n",
    "        loss = loss_fn(y_pred, y_batch)\n",
    "        optimizer.zero_grad()\n",
    "        loss.backward()\n",
    "        optimizer.step()\n",
    "        \n",
    "        losses.update(loss.item(),x_batch.size(0))\n",
    "\n",
    "        print('\\r', end='', flush=True)\n",
    "        message = '%s %5.1f %6.1f        |  %0.3f  |   %0.3f   | %s' % ( \\\n",
    "            \"train\", i / len(train_loader) + epoch, epoch,\n",
    "            losses.avg,\n",
    "            valid_loss,\n",
    "            utils.time_to_str((timer() - start), 'min'))\n",
    "        print(message, end='', flush=True)\n",
    "    log.write(\"\\n\")\n",
    "    return losses.avg\n",
    "\n",
    "\n",
    "# 2. evaluate fuunction\n",
    "def evaluate(val_loader,model,loss_fn,epoch,train_loss,start_time):\n",
    "    losses = utils.AverageMeter()\n",
    "    # switch mode for evaluation\n",
    "    model.cuda()\n",
    "    model.eval()\n",
    "\n",
    "    with torch.no_grad():\n",
    "        for i, (x_batch, y_batch) in enumerate(val_loader):\n",
    "            y_pred = model(x_batch)\n",
    "            # Concatenate all every batch\n",
    "            if i == 0:\n",
    "                total_output = y_pred\n",
    "                total_target = y_batch\n",
    "            else:\n",
    "                total_output = torch.cat([total_output, y_pred], 0)\n",
    "                total_target = torch.cat([total_target, y_batch], 0)\n",
    "\n",
    "        # compute loss for the entire evaluation dataset\n",
    "        print(\"total_output:\", total_output.shape)\n",
    "        print(\"total_target:\", total_target.shape)\n",
    "        \n",
    "        val_loss = loss_fn(total_output, total_target)\n",
    "        losses.update(val_loss.item(),total_target.shape[0])\n",
    "        \n",
    "        print('\\r', end='', flush=True)\n",
    "        message = '%s %5.1f %6.1f        |  %0.3f  |   %0.3f   | %s' % ( \\\n",
    "            \"val\", epoch, epoch,\n",
    "            train_loss,\n",
    "            losses.avg,\n",
    "            utils.time_to_str((timer() - start_time), 'min'))\n",
    "        print(message, end='', flush=True)\n",
    "\n",
    "        log.write(\"\\n\")\n",
    "\n",
    "    return losses.avg, sigmoid(total_output).cpu().data.numpy()[:, 0]\n",
    "\n",
    "# 3. test model on public dataset and save the probability matrix\n",
    "def test(test_loader,model):\n",
    "    model.cuda()\n",
    "    model.eval()\n",
    "    predictions = []\n",
    "    sigmoid = nn.Sigmoid()\n",
    "    with torch.no_grad():\n",
    "        for i, (x_batch,) in enumerate(test_loader):\n",
    "            y_pred = model(x_batch)\n",
    "            y_preds = sigmoid(y_pred).cpu().data.numpy()[:, 0]\n",
    "            for y_pred in y_preds:\n",
    "                predictions.append(y_pred)\n",
    "    return np.array(predictions)\n"
   ]
  },
  {
   "cell_type": "code",
   "execution_count": 14,
   "metadata": {},
   "outputs": [
    {
     "name": "stdout",
     "output_type": "stream",
     "text": [
      "Fold 1\n",
      "Start loading embedding....................\n",
      "Embedding matrix shape: (120000, 300)\n",
      "train   1.0    0.0        |  290.292  |   inf   |  0 hr 02 minn\n",
      "val   0.0    0.0        |  290.292  |   34084.180   |  0 hr 02 min\n",
      "\n",
      "train   2.0    1.0        |  263.108  |   34084.180   |  0 hr 04 min\n",
      "val   1.0    1.0        |  263.108  |   37739.531   |  0 hr 04 min\n",
      "\n",
      "EarlyStopping counter: 1 out of 7\n",
      "train   3.0    2.0        |  258.640  |   37739.531   |  0 hr 07 min\n",
      "val   2.0    2.0        |  258.640  |   33526.477   |  0 hr 07 min\n",
      "\n",
      "Validation loss decreased (inf --> 33526.476562) ...\n",
      "train   4.0    3.0        |  255.557  |   33526.477   |  0 hr 09 min\n",
      "val   3.0    3.0        |  255.557  |   33423.453   |  0 hr 09 min\n",
      "\n",
      "Validation loss decreased (33526.476562 --> 33423.453125) ...\n",
      "train   5.0    4.0        |  253.059  |   33423.453   |  0 hr 12 min\n",
      "val   4.0    4.0        |  253.059  |   31765.967   |  0 hr 12 min\n",
      "\n",
      "Validation loss decreased (33423.453125 --> 31765.966797) ...\n",
      "train   6.0    5.0        |  250.388  |   31765.967   |  0 hr 14 min\n",
      "val   5.0    5.0        |  250.388  |   31314.385   |  0 hr 14 min\n",
      "\n",
      "Validation loss decreased (31765.966797 --> 31314.384766) ...\n",
      "train   7.0    6.0        |  248.541  |   31314.385   |  0 hr 16 min\n",
      "val   6.0    6.0        |  248.541  |   38762.523   |  0 hr 17 min\n",
      "\n",
      "EarlyStopping counter: 1 out of 7\n",
      "train   8.0    7.0        |  245.652  |   38762.523   |  0 hr 19 min\n",
      "val   7.0    7.0        |  245.652  |   35862.047   |  0 hr 19 min\n",
      "\n",
      "EarlyStopping counter: 2 out of 7\n"
     ]
    },
    {
     "ename": "TypeError",
     "evalue": "unsupported operand type(s) for /: 'list' and 'int'",
     "output_type": "error",
     "traceback": [
      "\u001b[0;31m---------------------------------------------------------------------------\u001b[0m",
      "\u001b[0;31mTypeError\u001b[0m                                 Traceback (most recent call last)",
      "\u001b[0;32m<ipython-input-14-fd130309cae3>\u001b[0m in \u001b[0;36m<module>\u001b[0;34m\u001b[0m\n\u001b[1;32m    105\u001b[0m     \u001b[0;31m# test\u001b[0m\u001b[0;34m\u001b[0m\u001b[0;34m\u001b[0m\u001b[0;34m\u001b[0m\u001b[0m\n\u001b[1;32m    106\u001b[0m     \u001b[0mtest_preds_fold\u001b[0m \u001b[0;34m=\u001b[0m \u001b[0mtest\u001b[0m\u001b[0;34m(\u001b[0m\u001b[0mtest_loader\u001b[0m\u001b[0;34m=\u001b[0m\u001b[0mtest_loader\u001b[0m\u001b[0;34m,\u001b[0m \u001b[0mmodel\u001b[0m\u001b[0;34m=\u001b[0m\u001b[0mmodel\u001b[0m\u001b[0;34m)\u001b[0m\u001b[0;34m\u001b[0m\u001b[0;34m\u001b[0m\u001b[0m\n\u001b[0;32m--> 107\u001b[0;31m     \u001b[0mtest_preds\u001b[0m \u001b[0;34m+=\u001b[0m \u001b[0mtest_preds_fold\u001b[0m \u001b[0;34m/\u001b[0m \u001b[0mlen\u001b[0m\u001b[0;34m(\u001b[0m\u001b[0msplits\u001b[0m\u001b[0;34m)\u001b[0m\u001b[0;34m\u001b[0m\u001b[0;34m\u001b[0m\u001b[0m\n\u001b[0m\u001b[1;32m    108\u001b[0m     \u001b[0;31m# end k-fold\u001b[0m\u001b[0;34m\u001b[0m\u001b[0;34m\u001b[0m\u001b[0;34m\u001b[0m\u001b[0m\n",
      "\u001b[0;31mTypeError\u001b[0m: unsupported operand type(s) for /: 'list' and 'int'"
     ]
    }
   ],
   "source": [
    "\n",
    "# -------------------------------------------------------\n",
    "# training\n",
    "# -------------------------------------------------------\n",
    "train_preds = np.zeros((len(train_X)))\n",
    "test_preds = np.zeros((len(test_X)))\n",
    "\n",
    "x_test_cuda = torch.tensor(test_X, dtype=torch.long).cuda()\n",
    "test_dataset = torch.utils.data.TensorDataset(x_test_cuda)\n",
    "test_loader = torch.utils.data.DataLoader(test_dataset, batch_size=1, shuffle=False)\n",
    "\n",
    "splits = list(StratifiedKFold(n_splits=5, shuffle=True, random_state=SEED).split(train_X, train_y))\n",
    "\n",
    "sigmoid = nn.Sigmoid()\n",
    "loss_fn = torch.nn.BCEWithLogitsLoss(reduction=\"sum\")\n",
    "\n",
    "# k-fold\n",
    "for fold, (train_idx, valid_idx) in enumerate(splits):\n",
    "    print(f'Fold {fold + 1}')\n",
    "\n",
    "    # tflogger\n",
    "    tflogger = utils.TFLogger(os.path.join('results', 'TFlogs',\n",
    "                                     config.model_name + \"_fold{0}_{1}\".format(config.fold, fold)))\n",
    "    # initialize the early_stopping object\n",
    "    early_stopping = utils.EarlyStopping(patience=7, verbose=True)\n",
    "\n",
    "    x_train_fold = torch.tensor(train_X[train_idx], dtype=torch.long).cuda()\n",
    "    y_train_fold = torch.tensor(train_y[train_idx, np.newaxis], dtype=torch.float32).cuda()\n",
    "    x_val_fold = torch.tensor(train_X[valid_idx], dtype=torch.long).cuda()\n",
    "    y_val_fold = torch.tensor(train_y[valid_idx, np.newaxis], dtype=torch.float32).cuda()\n",
    "\n",
    "    model = Baseline_Bidir_LSTM_GRU(config, word_index)\n",
    "    model.cuda()\n",
    "\n",
    "    optimizer = torch.optim.Adam(model.parameters(), lr=config.lr)\n",
    "\n",
    "    train_dataset = torch.utils.data.TensorDataset(x_train_fold, y_train_fold)\n",
    "    valid_dataset = torch.utils.data.TensorDataset(x_val_fold, y_val_fold)\n",
    "\n",
    "    train_loader = torch.utils.data.DataLoader(train_dataset, batch_size=config.batch_size, shuffle=True)\n",
    "    valid_loader = torch.utils.data.DataLoader(valid_dataset, batch_size=config.batch_size, shuffle=False)\n",
    "\n",
    "    valid_loss = np.inf\n",
    "    start_time = timer()\n",
    "    for epoch in range(config.epochs):\n",
    "        # train\n",
    "        lr = utils.get_learning_rate(optimizer)\n",
    "        train_loss = train(train_loader=train_loader,model=model,loss_fn=loss_fn, optimizer=optimizer,\n",
    "                           epoch=epoch,valid_loss=valid_loss,start=start_time)\n",
    "\n",
    "        # validate\n",
    "        valid_loss, valid_output = evaluate(val_loader=valid_loader, model=model, loss_fn=loss_fn, epoch=epoch,\n",
    "                                            train_loss=train_loss, start_time=start_time)\n",
    "        test_preds_fold = np.zeros(len(test_X))\n",
    "\n",
    "        # save model\n",
    "        utils.save_checkpoint({\n",
    "            \"epoch\": epoch,\n",
    "            \"model_name\": config.model_name,\n",
    "            \"state_dict\": model.state_dict(),\n",
    "            \"optimizer\": optimizer.state_dict(),\n",
    "            \"fold\": config.fold,\n",
    "            \"kfold\": config.fold,\n",
    "        },config.fold, fold, config)\n",
    "        # print logs\n",
    "        print('\\r', end='', flush=True)\n",
    "\n",
    "        log.write(\"\\n\")\n",
    "        time.sleep(0.01)\n",
    "\n",
    "        # ================================================================== #\n",
    "        #                        Tensorboard Logging                         #\n",
    "        # ================================================================== #\n",
    "\n",
    "        # 1. Log scalar values (scalar summary)\n",
    "        info = {'Train_loss': train_loss,\n",
    "                'Valid_loss': valid_loss,\n",
    "                'Learnging_rate': lr}\n",
    "\n",
    "        for tag, value in info.items():\n",
    "            tflogger.scalar_summary(tag, value, epoch)\n",
    "\n",
    "        # 2. Log values and gradients of the parameters (histogram summary)\n",
    "        for tag, value in model.named_parameters():\n",
    "            tag = tag.replace('.', '/')\n",
    "            tflogger.histo_summary(tag, value.data.cpu().numpy(), epoch)\n",
    "            if not value.grad is None:\n",
    "                tflogger.histo_summary(tag + '/grad', value.grad.data.cpu().numpy(), epoch)\n",
    "        # -------------------------------------\n",
    "        # end tflogger\n",
    "\n",
    "        # ================================================================== #\n",
    "        #                        Early stopping                         #\n",
    "        # ================================================================== #\n",
    "        # early_stopping needs the validation loss to check if it has decresed,\n",
    "        # and if it has, it will make a checkpoint of the current model\n",
    "        early_stopping(valid_loss, model)\n",
    "\n",
    "        if early_stopping.early_stop:\n",
    "            print(\"Early stopping\")\n",
    "            break\n",
    "\n",
    "    # end looping all epochs\n",
    "    train_preds[valid_idx] = valid_output\n",
    "    # test\n",
    "    test_preds_fold = test(test_loader=test_loader, model=model)\n",
    "    test_preds += test_preds_fold / len(splits)\n",
    "    # end k-fold"
   ]
  },
  {
   "cell_type": "code",
   "execution_count": 48,
   "metadata": {},
   "outputs": [],
   "source": [
    "test_loader = torch.utils.data.DataLoader(test_dataset, batch_size=config.batch_size, shuffle=False)\n",
    "test_preds_fold = test(test_loader=test_loader, model=model)"
   ]
  },
  {
   "cell_type": "code",
   "execution_count": 56,
   "metadata": {},
   "outputs": [],
   "source": [
    "def threshold_search(y_true, y_proba):\n",
    "    best_threshold = 0\n",
    "    best_score = 0\n",
    "    for threshold in tqdm([i * 0.01 for i in range(100)]):\n",
    "        score = f1_score(y_true=y_true, y_pred=y_proba > threshold)\n",
    "        if score > best_score:\n",
    "            best_threshold = threshold\n",
    "            best_score = score\n",
    "    search_result = {'threshold': best_threshold, 'f1': best_score}\n",
    "    return search_result"
   ]
  },
  {
   "cell_type": "code",
   "execution_count": 61,
   "metadata": {},
   "outputs": [
    {
     "name": "stderr",
     "output_type": "stream",
     "text": [
      "100%|██████████| 100/100 [00:22<00:00,  4.41it/s]\n"
     ]
    },
    {
     "data": {
      "text/plain": [
       "{'threshold': 0.02, 'f1': 0.25143919619551613}"
      ]
     },
     "execution_count": 61,
     "metadata": {},
     "output_type": "execute_result"
    }
   ],
   "source": [
    "search_result = threshold_search(train_y, train_preds)\n",
    "search_result"
   ]
  },
  {
   "cell_type": "code",
   "execution_count": null,
   "metadata": {},
   "outputs": [],
   "source": [
    "sub = pd.read_csv('../input/sample_submission.csv')\n",
    "sub.prediction = test_preds > search_result['threshold']\n",
    "sub.to_csv(\"submission.csv\", index=False)"
   ]
  }
 ],
 "metadata": {
  "kernelspec": {
   "display_name": "Python 3",
   "language": "python",
   "name": "python3"
  },
  "language_info": {
   "codemirror_mode": {
    "name": "ipython",
    "version": 3
   },
   "file_extension": ".py",
   "mimetype": "text/x-python",
   "name": "python",
   "nbconvert_exporter": "python",
   "pygments_lexer": "ipython3",
   "version": "3.6.7rc2"
  }
 },
 "nbformat": 4,
 "nbformat_minor": 2
}
