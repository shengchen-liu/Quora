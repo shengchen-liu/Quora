{
 "cells": [
  {
   "cell_type": "code",
   "execution_count": 1,
   "metadata": {},
   "outputs": [
    {
     "name": "stdout",
     "output_type": "stream",
     "text": [
      "module://ipykernel.pylab.backend_inline\n",
      "@common.py:  \n",
      "\tset random seed\n",
      "\t\tSEED=35202\n",
      "\tset cuda environment\n",
      "\t\ttorch.__version__              = 1.0.0\n",
      "\t\ttorch.version.cuda             = 9.0.176\n",
      "\t\ttorch.backends.cudnn.version() = 7401\n",
      "\t\ttorch.cuda.device_count()      = 1\n",
      "\n"
     ]
    }
   ],
   "source": [
    "%load_ext autoreload\n",
    "%autoreload 2\n",
    "\n",
    "from common import *\n",
    "from config import *\n",
    "import utils\n",
    "from models.model import*"
   ]
  },
  {
   "cell_type": "code",
   "execution_count": 2,
   "metadata": {},
   "outputs": [
    {
     "name": "stdout",
     "output_type": "stream",
     "text": [
      "\t\tos['CUDA_VISIBLE_DEVICES']     = 0\n",
      "\n",
      "-------------------- [START 2019-01-18 18:00:34] ---------------------------------------------------\n",
      "\n",
      "                          |------ Train ------|------ Valid ------|----Best Results---|------------|\n",
      "mode    iter   epoch    lr|  loss    f1_macro |  loss    f1_macro |  loss    f1_macro | time       |\n",
      "----------------------------------------------------------------------------------------------------\n"
     ]
    }
   ],
   "source": [
    "config = DefaultConfigs()\n",
    "\n",
    "\n",
    "# 1. set random seed\n",
    "os.environ[\"CUDA_VISIBLE_DEVICES\"] = config.gpus\n",
    "try:\n",
    "    print('\\t\\tos[\\'CUDA_VISIBLE_DEVICES\\']     =', os.environ['CUDA_VISIBLE_DEVICES'])\n",
    "    NUM_CUDA_DEVICES = len(os.environ['CUDA_VISIBLE_DEVICES'].split(','))\n",
    "except Exception:\n",
    "    print('\\t\\tos[\\'CUDA_VISIBLE_DEVICES\\']     =', 'None')\n",
    "    NUM_CUDA_DEVICES = 1\n",
    "warnings.filterwarnings('ignore')\n",
    "\n",
    "if not os.path.exists('../results'):\n",
    "    os.mkdir('../results')\n",
    "\n",
    "if not os.path.exists(config.logs):\n",
    "    os.mkdir(config.logs)\n",
    "\n",
    "log = utils.Logger()\n",
    "log.open('{0}{1}_log_train.txt'.format(config.logs, config.model_name),mode=\"a\")\n",
    "\n",
    "log.write(\"\\n-------------------- [START %s] %s\\n\\n\" % (datetime.now().strftime('%Y-%m-%d %H:%M:%S'), '-' * 51))\n",
    "log.write('                          |------ Train ------|------ Valid ------|----Best Results---|------------|\\n')\n",
    "log.write('mode    iter   epoch    lr|  loss    f1_macro |  loss    f1_macro |  loss    f1_macro | time       |\\n')\n",
    "log.write('----------------------------------------------------------------------------------------------------\\n')"
   ]
  },
  {
   "cell_type": "code",
   "execution_count": 3,
   "metadata": {},
   "outputs": [
    {
     "name": "stderr",
     "output_type": "stream",
     "text": [
      "  4%|▎         | 46992/1306122 [00:00<00:02, 469918.21it/s]"
     ]
    },
    {
     "name": "stdout",
     "output_type": "stream",
     "text": [
      "Train shape :  (1306122, 3)\n",
      "Test shape :  (56370, 2)\n"
     ]
    },
    {
     "name": "stderr",
     "output_type": "stream",
     "text": [
      "100%|██████████| 1306122/1306122 [00:01<00:00, 678194.33it/s]\n",
      "100%|██████████| 56370/56370 [00:00<00:00, 587139.65it/s]\n",
      "100%|██████████| 1306122/1306122 [00:53<00:00, 24312.78it/s]\n",
      "100%|██████████| 56370/56370 [00:02<00:00, 24280.69it/s]\n",
      "100%|██████████| 1306122/1306122 [00:16<00:00, 78119.17it/s]\n",
      "100%|██████████| 56370/56370 [00:00<00:00, 79061.36it/s]\n",
      "100%|██████████| 1306122/1306122 [00:18<00:00, 71585.93it/s]\n",
      "100%|██████████| 56370/56370 [00:00<00:00, 70710.01it/s]\n"
     ]
    },
    {
     "name": "stdout",
     "output_type": "stream",
     "text": [
      "Tokenizing.......\n",
      "Tokenizing Done!\n",
      "Took 2.80 minutes\n"
     ]
    }
   ],
   "source": [
    " # 4.1 mkdirs\n",
    "if not os.path.exists(config.submit):\n",
    "    os.makedirs(config.submit)\n",
    "if not os.path.exists(config.weights + config.model_name + os.sep + 'fold_'+str(config.fold)):\n",
    "    os.makedirs(config.weights + config.model_name + os.sep + 'fold_'+ str(config.fold))\n",
    "if not os.path.exists(config.best_models):\n",
    "    os.mkdir(config.best_models)\n",
    "if not os.path.exists(config.logs):\n",
    "    os.mkdir(config.logs)\n",
    "\n",
    "tqdm.pandas()\n",
    "\n",
    "start_time = time.time()\n",
    "train_X, test_X, train_y, word_index = utils.load_and_prec(config)\n",
    "# embedding_matrix_1 = load_glove(word_index)\n",
    "# embedding_matrix_2 = load_para(word_index)\n",
    "\n",
    "total_time = (time.time() - start_time) / 60\n",
    "print(\"Took {:.2f} minutes\".format(total_time))"
   ]
  },
  {
   "cell_type": "code",
   "execution_count": 4,
   "metadata": {},
   "outputs": [
    {
     "name": "stdout",
     "output_type": "stream",
     "text": [
      "Fold 1\n",
      "Start loading embedding....................\n",
      "Embedding matrix shape: (120000, 300)\n"
     ]
    },
    {
     "ename": "AttributeError",
     "evalue": "module 'utils' has no attribute 'get_learning_rate'",
     "output_type": "error",
     "traceback": [
      "\u001b[0;31m---------------------------------------------------------------------------\u001b[0m",
      "\u001b[0;31mAttributeError\u001b[0m                            Traceback (most recent call last)",
      "\u001b[0;32m<ipython-input-4-0d6be17e5d97>\u001b[0m in \u001b[0;36m<module>\u001b[0;34m\u001b[0m\n\u001b[1;32m     45\u001b[0m     \u001b[0;32mfor\u001b[0m \u001b[0mepoch\u001b[0m \u001b[0;32min\u001b[0m \u001b[0mrange\u001b[0m\u001b[0;34m(\u001b[0m\u001b[0mconfig\u001b[0m\u001b[0;34m.\u001b[0m\u001b[0mepochs\u001b[0m\u001b[0;34m)\u001b[0m\u001b[0;34m:\u001b[0m\u001b[0;34m\u001b[0m\u001b[0;34m\u001b[0m\u001b[0m\n\u001b[1;32m     46\u001b[0m         \u001b[0;31m# train\u001b[0m\u001b[0;34m\u001b[0m\u001b[0;34m\u001b[0m\u001b[0;34m\u001b[0m\u001b[0m\n\u001b[0;32m---> 47\u001b[0;31m         \u001b[0mlr\u001b[0m \u001b[0;34m=\u001b[0m \u001b[0mutils\u001b[0m\u001b[0;34m.\u001b[0m\u001b[0mget_learning_rate\u001b[0m\u001b[0;34m(\u001b[0m\u001b[0moptimizer\u001b[0m\u001b[0;34m)\u001b[0m\u001b[0;34m\u001b[0m\u001b[0;34m\u001b[0m\u001b[0m\n\u001b[0m\u001b[1;32m     48\u001b[0m         train_loss = train(train_loader=train_loader,model=model,loss_fn=loss_fn, optimize=optimizer,\n\u001b[1;32m     49\u001b[0m                            epoch=epoch,valid_loss=valid_loss,start=start_time)\n",
      "\u001b[0;31mAttributeError\u001b[0m: module 'utils' has no attribute 'get_learning_rate'"
     ]
    }
   ],
   "source": [
    "\n",
    "# -------------------------------------------------------\n",
    "# training\n",
    "# -------------------------------------------------------\n",
    "train_preds = np.zeros((len(train_X)))\n",
    "test_preds = np.zeros((len(test_X)))\n",
    "\n",
    "x_test_cuda = torch.tensor(test_X, dtype=torch.long).cuda()\n",
    "test_dataset = torch.utils.data.TensorDataset(x_test_cuda)\n",
    "test_loader = torch.utils.data.DataLoader(test_dataset, batch_size=config.batch_size, shuffle=False)\n",
    "\n",
    "splits = list(StratifiedKFold(n_splits=5, shuffle=True, random_state=SEED).split(train_X, train_y))\n",
    "\n",
    "sigmoid = nn.Sigmoid()\n",
    "loss_fn = torch.nn.BCEWithLogitsLoss(reduction=\"sum\")\n",
    "\n",
    "# k-fold\n",
    "for fold, (train_idx, valid_idx) in enumerate(splits):\n",
    "    print(f'Fold {fold + 1}')\n",
    "\n",
    "    # tflogger\n",
    "    tflogger = utils.TFLogger(os.path.join('results', 'TFlogs',\n",
    "                                     config.model_name + \"_fold{0}_{1}\".format(config.fold, fold)))\n",
    "    # initialize the early_stopping object\n",
    "    early_stopping = utils.EarlyStopping(patience=7, verbose=True)\n",
    "\n",
    "    x_train_fold = torch.tensor(train_X[train_idx], dtype=torch.long).cuda()\n",
    "    y_train_fold = torch.tensor(train_y[train_idx, np.newaxis], dtype=torch.float32).cuda()\n",
    "    x_val_fold = torch.tensor(train_X[valid_idx], dtype=torch.long).cuda()\n",
    "    y_val_fold = torch.tensor(train_y[valid_idx, np.newaxis], dtype=torch.float32).cuda()\n",
    "\n",
    "    model = Baseline_Bidir_LSTM_GRU(config, word_index)\n",
    "    model.cuda()\n",
    "\n",
    "    optimizer = torch.optim.Adam(model.parameters(), lr=config.lr)\n",
    "\n",
    "    train_dataset = torch.utils.data.TensorDataset(x_train_fold, y_train_fold)\n",
    "    valid_dataset = torch.utils.data.TensorDataset(x_val_fold, y_val_fold)\n",
    "\n",
    "    train_loader = torch.utils.data.DataLoader(train_dataset, batch_size=config.batch_size, shuffle=True)\n",
    "    valid_loader = torch.utils.data.DataLoader(valid_dataset, batch_size=config.batch_size, shuffle=False)\n",
    "\n",
    "    valid_loss = np.inf\n",
    "    start_time = time.time()\n",
    "    for epoch in range(config.epochs):\n",
    "        # train\n",
    "        lr = utils.get_learning_rate(optimizer)\n",
    "        train_loss = train(train_loader=train_loader,model=model,loss_fn=loss_fn, optimize=optimizer,\n",
    "                           epoch=epoch,valid_loss=valid_loss,start=start_time)\n",
    "\n",
    "        # validate\n",
    "        valid_loss = evaluate(val_loader=valid_loader, model=model, loss_fn=loss_fn, epoch=epoch,\n",
    "                            train_loss=train_loss, start_time=start_time)\n",
    "        test_preds_fold = np.zeros(len(test_X))\n",
    "\n",
    "        # save model\n",
    "        utils.save_checkpoint({\n",
    "            \"epoch\": epoch,\n",
    "            \"model_name\": config.model_name,\n",
    "            \"state_dict\": model.state_dict(),\n",
    "            \"optimizer\": optimizer.state_dict(),\n",
    "            \"fold\": config.fold,\n",
    "            \"kfold\": config.fold,\n",
    "        },config.fold, fold, config)\n",
    "        # print logs\n",
    "        print('\\r', end='', flush=True)\n",
    "\n",
    "        log.write(\"\\n\")\n",
    "        time.sleep(0.01)\n",
    "\n",
    "        # ================================================================== #\n",
    "        #                        Tensorboard Logging                         #\n",
    "        # ================================================================== #\n",
    "\n",
    "        # 1. Log scalar values (scalar summary)\n",
    "        info = {'Train_loss': train_loss,\n",
    "                'Valid_loss': valid_loss,\n",
    "                'Learnging_rate': lr}\n",
    "\n",
    "        for tag, value in info.items():\n",
    "            tflogger.scalar_summary(tag, value, epoch)\n",
    "\n",
    "        # 2. Log values and gradients of the parameters (histogram summary)\n",
    "        for tag, value in model.named_parameters():\n",
    "            tag = tag.replace('.', '/')\n",
    "            tflogger.histo_summary(tag, value.data.cpu().numpy(), epoch)\n",
    "            tflogger.histo_summary(tag + '/grad', value.grad.data.cpu().numpy(), epoch)\n",
    "        # -------------------------------------\n",
    "        # end tflogger\n",
    "\n",
    "        # ================================================================== #\n",
    "        #                        Early stopping                         #\n",
    "        # ================================================================== #\n",
    "        # early_stopping needs the validation loss to check if it has decresed,\n",
    "        # and if it has, it will make a checkpoint of the current model\n",
    "        early_stopping(valid_loss, model)\n",
    "\n",
    "        if early_stopping.early_stop:\n",
    "            print(\"Early stopping\")\n",
    "            break\n",
    "\n",
    "    # end looping all epochs\n",
    "\n",
    "    # test\n",
    "    test_preds_fold = test(test_loader=test_loader, model=model)\n",
    "    test_preds += test_preds_fold / len(splits)\n",
    "    # end k-fold"
   ]
  },
  {
   "cell_type": "code",
   "execution_count": 25,
   "metadata": {},
   "outputs": [
    {
     "data": {
      "text/plain": [
       "(1536,)"
      ]
     },
     "execution_count": 25,
     "metadata": {},
     "output_type": "execute_result"
    }
   ],
   "source": [
    "m = nn.Sigmoid()\n",
    "m(y_pred).cpu().numpy()[:,0].shape"
   ]
  },
  {
   "cell_type": "code",
   "execution_count": 18,
   "metadata": {},
   "outputs": [
    {
     "ename": "TypeError",
     "evalue": "__init__() takes 1 positional argument but 2 were given",
     "output_type": "error",
     "traceback": [
      "\u001b[0;31m---------------------------------------------------------------------------\u001b[0m",
      "\u001b[0;31mTypeError\u001b[0m                                 Traceback (most recent call last)",
      "\u001b[0;32m<ipython-input-18-b1c71175a0a4>\u001b[0m in \u001b[0;36m<module>\u001b[0;34m\u001b[0m\n\u001b[0;32m----> 1\u001b[0;31m \u001b[0mtorch\u001b[0m\u001b[0;34m.\u001b[0m\u001b[0mnn\u001b[0m\u001b[0;34m.\u001b[0m\u001b[0mSigmoid\u001b[0m\u001b[0;34m(\u001b[0m\u001b[0;34m[\u001b[0m\u001b[0;34m[\u001b[0m\u001b[0;36m0\u001b[0m\u001b[0;34m]\u001b[0m\u001b[0;34m]\u001b[0m\u001b[0;34m)\u001b[0m\u001b[0;34m\u001b[0m\u001b[0;34m\u001b[0m\u001b[0m\n\u001b[0m",
      "\u001b[0;31mTypeError\u001b[0m: __init__() takes 1 positional argument but 2 were given"
     ]
    }
   ],
   "source": [
    "torch.nn.Sigmoid([[0]])"
   ]
  },
  {
   "cell_type": "code",
   "execution_count": null,
   "metadata": {},
   "outputs": [],
   "source": []
  }
 ],
 "metadata": {
  "kernelspec": {
   "display_name": "Python 3",
   "language": "python",
   "name": "python3"
  },
  "language_info": {
   "codemirror_mode": {
    "name": "ipython",
    "version": 3
   },
   "file_extension": ".py",
   "mimetype": "text/x-python",
   "name": "python",
   "nbconvert_exporter": "python",
   "pygments_lexer": "ipython3",
   "version": "3.6.7rc2"
  }
 },
 "nbformat": 4,
 "nbformat_minor": 2
}
