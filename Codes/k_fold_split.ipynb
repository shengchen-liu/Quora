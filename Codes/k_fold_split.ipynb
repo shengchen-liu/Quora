{
 "cells": [
  {
   "cell_type": "code",
   "execution_count": 15,
   "metadata": {},
   "outputs": [],
   "source": [
    "import pandas as pd\n",
    "import os\n",
    "import numpy as np\n",
    "\n",
    "from sklearn.model_selection import StratifiedKFold"
   ]
  },
  {
   "cell_type": "code",
   "execution_count": 13,
   "metadata": {},
   "outputs": [],
   "source": [
    "SEED = 1029\n",
    "if not os.path.exists(\"../input/fold_5\"):\n",
    "    os.mkdir(\"../input/fold_5\")\n",
    "    \n",
    "train_df = pd.read_csv(\"../input/train.csv\")\n",
    "## Get the target values\n",
    "train_X = train_df['qid'].values\n",
    "train_y = train_df['target'].values\n",
    "splits = list(StratifiedKFold(n_splits=5, shuffle=True, random_state=SEED).split(train_X, train_y))"
   ]
  },
  {
   "cell_type": "code",
   "execution_count": 19,
   "metadata": {},
   "outputs": [
    {
     "name": "stdout",
     "output_type": "stream",
     "text": [
      "TRAIN: 1044897 VALID: 261225\n",
      "TRAIN: 1044897 VALID: 261225\n",
      "TRAIN: 1044898 VALID: 261224\n",
      "TRAIN: 1044898 VALID: 261224\n",
      "TRAIN: 1044898 VALID: 261224\n"
     ]
    }
   ],
   "source": [
    "for i, (train_idx, valid_idx) in enumerate(splits):\n",
    "    print(\"TRAIN:\", len(train_idx), \"VALID:\", len(valid_idx))\n",
    "    x_train_fold, x_valid_fold= train_X[train_idx], train_X[valid_idx]\n",
    "#     y_train_fold, y_valid_fold= train_y[train_idx], train_y[valid_idx]\n",
    "    # with open(os.path.join(\"input/fold_5\", \"train_fol5_{}.txt\".format(f)),\"w+\") as text_file:\n",
    "    #     text_file.write(X_train)\n",
    "    np.savetxt(os.path.join(\"../input/fold_5\", \"train_fold5_{}.txt\".format(i)), x_train_fold,fmt='%s')\n",
    "    np.savetxt(os.path.join(\"../input/fold_5\", \"test_fold5_{}.txt\".format(i)), x_valid_fold,fmt='%s')"
   ]
  }
 ],
 "metadata": {
  "kernelspec": {
   "display_name": "Python 3",
   "language": "python",
   "name": "python3"
  },
  "language_info": {
   "codemirror_mode": {
    "name": "ipython",
    "version": 3
   },
   "file_extension": ".py",
   "mimetype": "text/x-python",
   "name": "python",
   "nbconvert_exporter": "python",
   "pygments_lexer": "ipython3",
   "version": "3.6.7rc2"
  }
 },
 "nbformat": 4,
 "nbformat_minor": 2
}
